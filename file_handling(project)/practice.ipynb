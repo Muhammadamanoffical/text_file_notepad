{
 "cells": [
  {
   "cell_type": "code",
   "execution_count": 5,
   "id": "e38a10fc-223e-4ae1-a076-d7143e368d77",
   "metadata": {},
   "outputs": [
    {
     "name": "stdout",
     "output_type": "stream",
     "text": [
      "welcome Text File Notepad\n",
      "Press one for creating new file and takes notes in it\n",
      "Press two for updating notes in it\n",
      "Press three for read all notes \n",
      "Press four for exit\n"
     ]
    },
    {
     "name": "stdin",
     "output_type": "stream",
     "text": [
      "enter your option 2\n",
      "enter filename test.txt\n",
      "enter your data we are the student of saylani \n"
     ]
    },
    {
     "name": "stdout",
     "output_type": "stream",
     "text": [
      "your data successfully update\n"
     ]
    },
    {
     "name": "stdin",
     "output_type": "stream",
     "text": [
      "enter your option 3\n",
      "enter filename test.txt\n"
     ]
    },
    {
     "name": "stdout",
     "output_type": "stream",
     "text": [
      "my name is muhammad Amani am student \n",
      " i am student of bachelor in software enginerring  \n",
      " my friend name is tahir hameed \n",
      " we are the student of saylani \n"
     ]
    },
    {
     "name": "stdin",
     "output_type": "stream",
     "text": [
      "enter your option 4\n"
     ]
    },
    {
     "name": "stdout",
     "output_type": "stream",
     "text": [
      "thankyou for coming\n"
     ]
    }
   ],
   "source": [
    "# import file_handling as f\n",
    "# print(\"welcome Text File Notepad\")\n",
    "# print(\"Press one for creating new file and takes notes in it\")\n",
    "# print(\"Press two for updating notes in it\")\n",
    "# print(\"Press three for read all notes \")\n",
    "# print(\"Press four for exit\")\n",
    "# while True:\n",
    "#     target=input(\"enter your option\")\n",
    "#     if target == \"1\":\n",
    "#         file_name=input(\"enter filename\")\n",
    "#         f.create_file(file_name)\n",
    "#     elif target == \"2\":\n",
    "#         file_name=input(\"enter filename\")\n",
    "#         f.update_data(file_name)\n",
    "#     elif target == \"3\":\n",
    "#         file_name=input(\"enter filename\")\n",
    "#         f.read_data(file_name)\n",
    "#     elif target == \"4\":\n",
    "#         print(\"thankyou for coming\")\n",
    "#         break\n",
    "#     else:\n",
    "#         print(\"invalide option \")\n",
    "        \n",
    "        \n",
    "    "
   ]
  },
  {
   "cell_type": "code",
   "execution_count": 11,
   "id": "3be43548-fd8f-4990-9e84-392c1aded1aa",
   "metadata": {},
   "outputs": [
    {
     "name": "stdout",
     "output_type": "stream",
     "text": [
      "==================================================\n",
      "          📝 Welcome to Text File Notepad          \n",
      "==================================================\n",
      "\n",
      "1️⃣  Create a new file and add notes\n",
      "2️⃣  Update existing file with more notes\n",
      "3️⃣  Read all notes from a file\n",
      "4️⃣  Exit\n",
      "\n"
     ]
    },
    {
     "name": "stdin",
     "output_type": "stream",
     "text": [
      "👉 Enter your option (1-4):  1\n",
      "📁 Enter filename (e.g., notes.txt):  new.txt\n",
      "enter your data that you want to store in file  its a new file\n"
     ]
    },
    {
     "name": "stdout",
     "output_type": "stream",
     "text": [
      "\n",
      "1️⃣  Create a new file and add notes\n",
      "2️⃣  Update existing file with more notes\n",
      "3️⃣  Read all notes from a file\n",
      "4️⃣  Exit\n",
      "\n"
     ]
    },
    {
     "name": "stdin",
     "output_type": "stream",
     "text": [
      "👉 Enter your option (1-4):  2\n",
      "📁 Enter filename to update:  new.txt\n",
      "enter your data my name is muhammad aman\n"
     ]
    },
    {
     "name": "stdout",
     "output_type": "stream",
     "text": [
      "your data successfully update\n",
      "\n",
      "1️⃣  Create a new file and add notes\n",
      "2️⃣  Update existing file with more notes\n",
      "3️⃣  Read all notes from a file\n",
      "4️⃣  Exit\n",
      "\n"
     ]
    },
    {
     "name": "stdin",
     "output_type": "stream",
     "text": [
      "👉 Enter your option (1-4):  3\n",
      "📁 Enter filename to read:  new.txt\n"
     ]
    },
    {
     "name": "stdout",
     "output_type": "stream",
     "text": [
      "its a new file \n",
      " my name is muhammad aman\n",
      "\n",
      "1️⃣  Create a new file and add notes\n",
      "2️⃣  Update existing file with more notes\n",
      "3️⃣  Read all notes from a file\n",
      "4️⃣  Exit\n",
      "\n"
     ]
    },
    {
     "name": "stdin",
     "output_type": "stream",
     "text": [
      "👉 Enter your option (1-4):  3\n",
      "📁 Enter filename to read:  test.txt\n"
     ]
    },
    {
     "name": "stdout",
     "output_type": "stream",
     "text": [
      "my name is muhammad Amani am student \n",
      " i am student of bachelor in software enginerring  \n",
      " my friend name is tahir hameed \n",
      " we are the student of saylani  \n",
      " testing data\n",
      "\n",
      "1️⃣  Create a new file and add notes\n",
      "2️⃣  Update existing file with more notes\n",
      "3️⃣  Read all notes from a file\n",
      "4️⃣  Exit\n",
      "\n"
     ]
    },
    {
     "name": "stdin",
     "output_type": "stream",
     "text": [
      "👉 Enter your option (1-4):  4\n"
     ]
    },
    {
     "name": "stdout",
     "output_type": "stream",
     "text": [
      "\n",
      "👋 Thank you for using Text File Notepad. Goodbye!\n",
      "==================================================\n"
     ]
    }
   ],
   "source": [
    "import file_handling as f\n",
    "\n",
    "print(\"=\" * 50)\n",
    "print(\"📝 Welcome to Text File Notepad\".center(50))\n",
    "print(\"=\" * 50)\n",
    "\n",
    "menu = \"\"\"\n",
    "1️⃣  Create a new file and add notes\n",
    "2️⃣  Update existing file with more notes\n",
    "3️⃣  Read all notes from a file\n",
    "4️⃣  Exit\n",
    "\"\"\"\n",
    "\n",
    "while True:\n",
    "    print(menu)\n",
    "    target = input(\"👉 Enter your option (1-4): \")\n",
    "\n",
    "    if target == \"1\":\n",
    "        file_name = input(\"📁 Enter filename (e.g., notes.txt): \")\n",
    "        f.create_file(file_name)\n",
    "    elif target == \"2\":\n",
    "        file_name = input(\"📁 Enter filename to update: \")\n",
    "        f.update_data(file_name)\n",
    "    elif target == \"3\":\n",
    "        file_name = input(\"📁 Enter filename to read: \")\n",
    "        f.read_data(file_name)\n",
    "    elif target == \"4\":\n",
    "        print(\"\\n👋 Thank you for using Text File Notepad. Goodbye!\")\n",
    "        print(\"=\" * 50)\n",
    "        break\n",
    "    else:\n",
    "        print(\"❌ Invalid option. Please choose 1, 2, 3, or 4.\")\n"
   ]
  },
  {
   "cell_type": "code",
   "execution_count": null,
   "id": "6b570736-0964-4c44-bf6c-da79911dd1f1",
   "metadata": {},
   "outputs": [],
   "source": []
  }
 ],
 "metadata": {
  "kernelspec": {
   "display_name": "Python [conda env:base] *",
   "language": "python",
   "name": "conda-base-py"
  },
  "language_info": {
   "codemirror_mode": {
    "name": "ipython",
    "version": 3
   },
   "file_extension": ".py",
   "mimetype": "text/x-python",
   "name": "python",
   "nbconvert_exporter": "python",
   "pygments_lexer": "ipython3",
   "version": "3.12.7"
  }
 },
 "nbformat": 4,
 "nbformat_minor": 5
}
